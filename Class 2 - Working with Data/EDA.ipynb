{
  "cells": [
    {
      "cell_type": "markdown",
      "source": [
        "### Data Cleaning"
      ],
      "metadata": {
        "cell_id": "dea50a85adce443584ffb42b3efa546f",
        "deepnote_cell_type": "markdown",
        "id": "hpJWyJXq7Zl9"
      }
    },
    {
      "cell_type": "markdown",
      "source": [
        "#### Acquiring and Loading Data\n"
      ],
      "metadata": {
        "cell_id": "66ecdc87fd09411e988c940de5fe5003",
        "deepnote_cell_type": "markdown",
        "id": "EVD27TP17ZmB"
      }
    },
    {
      "cell_type": "code",
      "source": [
        "# Data manipulation\n",
        "import datetime\n",
        "import numpy as np\n",
        "import pandas as pd\n",
        "import pandas.api.types as ptypes\n",
        "#from skimpy import skim, clean_columns\n",
        "\n",
        "# Visualizations\n",
        "import matplotlib.pyplot as plt\n",
        "import seaborn as sns"
      ],
      "metadata": {
        "cell_id": "7652fdf0134f4d6091689d0ca0fdf2e5",
        "source_hash": "ab774905",
        "execution_start": 1684082032937,
        "execution_millis": 1489,
        "deepnote_to_be_reexecuted": false,
        "deepnote_cell_type": "code",
        "id": "9ojZGlEe7ZmC"
      },
      "outputs": [],
      "execution_count": null
    },
    {
      "cell_type": "markdown",
      "source": [
        "### Loading Data"
      ],
      "metadata": {
        "cell_id": "5a64877afc224dccbfb11b10f59221fd",
        "deepnote_cell_type": "markdown",
        "id": "a06L7wUL7ZmC"
      }
    },
    {
      "cell_type": "code",
      "source": [
        "# # Load Dataset (read_csv or read_excel)\n",
        "# file = 'file.csv'\n",
        "# df = pd.read_excel(file)\n",
        "# df"
      ],
      "metadata": {
        "cell_id": "310231887a074cabb1ba7abea7b991bf",
        "source_hash": "2a9d8eee",
        "execution_start": 1684082034439,
        "execution_millis": 1,
        "deepnote_to_be_reexecuted": false,
        "deepnote_cell_type": "code",
        "id": "VmozEa3g7ZmC"
      },
      "outputs": [],
      "execution_count": null
    },
    {
      "cell_type": "markdown",
      "source": [
        "### Basic Data Exploration"
      ],
      "metadata": {
        "cell_id": "02108a7965a64b57992d9db3eb1e23a1",
        "deepnote_cell_type": "markdown",
        "id": "J9NoBVww7ZmC"
      }
    },
    {
      "cell_type": "code",
      "source": [
        "# df.head()"
      ],
      "metadata": {
        "cell_id": "a82fce9bd2f443509252ca7620379aa5",
        "source_hash": "f584530c",
        "execution_start": 1684082034452,
        "execution_millis": 30,
        "deepnote_to_be_reexecuted": false,
        "deepnote_cell_type": "code",
        "id": "MH6apjTU7ZmD"
      },
      "outputs": [],
      "execution_count": null
    },
    {
      "cell_type": "code",
      "source": [
        "# df.tail()"
      ],
      "metadata": {
        "cell_id": "c3685e4ca2a743c68263bf5e4c617073",
        "source_hash": "c2c74a05",
        "execution_start": 1684082034454,
        "execution_millis": 45,
        "deepnote_to_be_reexecuted": false,
        "deepnote_cell_type": "code",
        "id": "OY5RTmvv7ZmD"
      },
      "outputs": [],
      "execution_count": null
    },
    {
      "cell_type": "markdown",
      "source": [],
      "metadata": {
        "id": "FUKhNvCD8NeZ"
      }
    },
    {
      "cell_type": "markdown",
      "source": [
        "#### Check Data Types"
      ],
      "metadata": {
        "cell_id": "7274c5c9b3ae440fb8a2a8858ef6d27f",
        "deepnote_cell_type": "markdown",
        "id": "fAdNdV0l7ZmD"
      }
    },
    {
      "cell_type": "code",
      "source": [
        "# # Show data types\n",
        "# df.info()"
      ],
      "metadata": {
        "cell_id": "ffc9ed41bd8e4957af514b3d9f9a8986",
        "source_hash": "411bda3e",
        "execution_start": 1684082034480,
        "execution_millis": 19,
        "deepnote_to_be_reexecuted": false,
        "deepnote_cell_type": "code",
        "id": "kjhgCmZO7ZmD"
      },
      "outputs": [],
      "execution_count": null
    },
    {
      "cell_type": "markdown",
      "source": [
        "- `column1`, `column2`, `column3` are **strings**.\n",
        "- `column4` and `column5` are **floats**.\n",
        "- `column6` is an **integer**.\n",
        "\n",
        "`column3` should be a **datetime** type instead."
      ],
      "metadata": {
        "cell_id": "7f762cd850bf4a5899692d37dce3bfe4",
        "deepnote_cell_type": "markdown",
        "id": "xlkk65Ri7ZmD"
      }
    },
    {
      "cell_type": "markdown",
      "source": [
        "#### Check Missing Data"
      ],
      "metadata": {
        "cell_id": "4d97dcf425544595846e23c0c3e57637",
        "deepnote_cell_type": "markdown",
        "id": "hVOo_QU_7ZmD"
      }
    },
    {
      "cell_type": "code",
      "source": [
        "# # Print percentage of missing values\n",
        "\n",
        "# missing_percent = df.isna().mean().sort_values(ascending=False)\n",
        "# print('---- Percentage of Missing Values (%) -----')\n",
        "# if missing_percent.sum():\n",
        "#   print(missing_percent[missing_percent > 0] * 100)\n",
        "# else:\n",
        "#    print('None')"
      ],
      "metadata": {
        "cell_id": "37050f70f0334425868db3e02d515659",
        "source_hash": "7d2008df",
        "execution_start": 1684082034480,
        "execution_millis": 19,
        "deepnote_to_be_reexecuted": false,
        "deepnote_cell_type": "code",
        "id": "GXQ-NZqw7ZmD"
      },
      "outputs": [],
      "execution_count": null
    },
    {
      "cell_type": "code",
      "source": [],
      "metadata": {
        "id": "yojHVEJ48py5"
      },
      "execution_count": null,
      "outputs": []
    },
    {
      "cell_type": "markdown",
      "source": [
        "#### Check for Duplicate Rows"
      ],
      "metadata": {
        "cell_id": "788f50114ef74753bf9a47386517d95f",
        "deepnote_cell_type": "markdown",
        "id": "1M0tNG3H7ZmD"
      }
    },
    {
      "cell_type": "code",
      "source": [
        "# # Show number of duplicated rows\n",
        "# print(f\"No. of entirely duplicated rows: {df.duplicated().sum()}\")\n",
        "\n",
        "# # Show duplicated rows\n",
        "# df[df.duplicated()]"
      ],
      "metadata": {
        "cell_id": "2f173b2cfa29432bb073a029b773219e",
        "source_hash": "d799c3f4",
        "execution_start": 1684082034480,
        "execution_millis": 19,
        "deepnote_to_be_reexecuted": false,
        "deepnote_cell_type": "code",
        "id": "fAHusvmd7ZmD"
      },
      "outputs": [],
      "execution_count": null
    },
    {
      "cell_type": "markdown",
      "source": [],
      "metadata": {
        "id": "KwD6Qnys8sNz"
      }
    },
    {
      "cell_type": "markdown",
      "source": [
        "#### Check Data Range"
      ],
      "metadata": {
        "cell_id": "0d0a5d13fa4f45c1bd74c5c6056e85b4",
        "deepnote_cell_type": "markdown",
        "id": "Vhopcinu7ZmE"
      }
    },
    {
      "cell_type": "code",
      "source": [
        "# # Print summary statistics\n",
        "#df.describe(include='all')"
      ],
      "metadata": {
        "cell_id": "ed4d093842c542bdb01e7537deb27fa9",
        "source_hash": "f9954904",
        "execution_start": 1684082034486,
        "execution_millis": 15,
        "deepnote_to_be_reexecuted": false,
        "deepnote_cell_type": "code",
        "id": "gb1d_4Mw7ZmE"
      },
      "outputs": [],
      "execution_count": null
    },
    {
      "cell_type": "markdown",
      "source": [
        "---"
      ],
      "metadata": {
        "cell_id": "a5bcbeb6e7f94451b008c8076cab7365",
        "deepnote_cell_type": "markdown",
        "id": "FINkjYFs7ZmE"
      }
    },
    {
      "cell_type": "markdown",
      "source": [
        "### Data Preprocessing"
      ],
      "metadata": {
        "cell_id": "592b248d503e44b4b461ef82f9adf7a6",
        "deepnote_cell_type": "markdown",
        "id": "tcuThXWd7ZmE"
      }
    },
    {
      "cell_type": "code",
      "source": [
        "# Delete columns:   df=df.dropna(axis=1, how='all') or  df=df.dropna(axis=1, how='any')\n"
      ],
      "metadata": {
        "tags": [],
        "cell_id": "2c6bd889ea6b4629af687e24182402bb",
        "source_hash": "163ed3ca",
        "execution_start": 1684082034584,
        "execution_millis": 0,
        "deepnote_to_be_reexecuted": false,
        "deepnote_cell_type": "code",
        "id": "ihH6Ts3O7ZmK"
      },
      "outputs": [],
      "execution_count": null
    },
    {
      "cell_type": "code",
      "source": [
        "# Delete rows:   df=df.dropna(axis=0, how='all') or  df=df.dropna(axis=0, how='any')\n"
      ],
      "metadata": {
        "id": "f97u3IB39hiz"
      },
      "execution_count": null,
      "outputs": []
    },
    {
      "cell_type": "code",
      "source": [
        "# # Verify columns dropped"
      ],
      "metadata": {
        "tags": [],
        "cell_id": "c476ebe4800f4507b6b4cfeb3059857b",
        "source_hash": "5269ecc",
        "execution_start": 1684082034590,
        "execution_millis": 1839849990,
        "deepnote_to_be_reexecuted": false,
        "deepnote_cell_type": "code",
        "id": "sLsUipDn7ZmK"
      },
      "outputs": [],
      "execution_count": null
    },
    {
      "cell_type": "markdown",
      "source": [
        "#### Dropping Duplicates"
      ],
      "metadata": {
        "cell_id": "eaec5575662a4be589c3a7b61fe0cf06",
        "deepnote_cell_type": "markdown",
        "id": "qc11wCJ67ZmK"
      }
    },
    {
      "cell_type": "code",
      "source": [
        "# # Drop entirely duplicated rows\n",
        "# df.drop_duplicates(inplace=True, ignore_index=True)"
      ],
      "metadata": {
        "cell_id": "305ee61a5e70417ebae2407234c8c9bb",
        "source_hash": "a141816e",
        "execution_start": 1684082034633,
        "execution_millis": 1,
        "deepnote_to_be_reexecuted": false,
        "deepnote_cell_type": "code",
        "id": "U7HDwyz17ZmK"
      },
      "outputs": [],
      "execution_count": null
    },
    {
      "cell_type": "markdown",
      "source": [
        "#### Handling Unreasonable Data Ranges"
      ],
      "metadata": {
        "cell_id": "bbbbbf33374e4a1a870c89f1d49227cb",
        "deepnote_cell_type": "markdown",
        "id": "yG8wrK7b7ZmK"
      }
    },
    {
      "cell_type": "code",
      "source": [
        "# # Drop affected rows\n",
        "# df = df.loc[~((df['A'] == 0) | (df['B'] > 100))].reset_index()"
      ],
      "metadata": {
        "cell_id": "ca85f03853454dec8aa379b90b7721fe",
        "source_hash": "6f74c738",
        "execution_start": 1684082034633,
        "execution_millis": 4,
        "deepnote_to_be_reexecuted": false,
        "deepnote_cell_type": "code",
        "id": "O7AErxQl7ZmK"
      },
      "outputs": [],
      "execution_count": null
    },
    {
      "cell_type": "markdown",
      "source": [
        "#### Changing Data Types"
      ],
      "metadata": {
        "cell_id": "5a44d491b9714a98aca3e40a2e51c02e",
        "deepnote_cell_type": "markdown",
        "id": "ZB2GEjaQ7ZmK"
      }
    },
    {
      "cell_type": "code",
      "source": [
        "# # Convert columns to the right data types\n",
        "# df[col] = df[col].astype('string')\n",
        "# df[col] = df[col].astype('int')\n",
        "# df[col] = pd.to_datetime(df[col], infer_datetime_format=True)\n",
        "\n",
        "# # Convert to categorical datatype\n",
        "# cat_features = df.select_dtypes(include = \"object\").columns\n",
        "# le = LabelEncoder()\n",
        "#for col in cat_features:\n",
        "#    df[col] = le.fit_transform(df[col].astype(str))"
      ],
      "metadata": {
        "cell_id": "be0c0625c2db4b53bcb94ef0e655b5cb",
        "source_hash": "9fd78d41",
        "execution_start": 1684082034588,
        "execution_millis": 1,
        "deepnote_to_be_reexecuted": false,
        "deepnote_cell_type": "code",
        "id": "dnXAdMGn7ZmK"
      },
      "outputs": [],
      "execution_count": null
    },
    {
      "cell_type": "code",
      "source": [],
      "metadata": {
        "id": "xABfxtat-Xey"
      },
      "execution_count": null,
      "outputs": []
    }
  ],
  "nbformat": 4,
  "nbformat_minor": 0,
  "metadata": {
    "vscode": {
      "interpreter": {
        "hash": "fafc50dc8a0fe30378212a6e8a815037b6b7ff0aadeb98c480725f88009956fb"
      }
    },
    "deepnote": {},
    "kernelspec": {
      "name": "python3",
      "language": "python",
      "display_name": "base"
    },
    "language_info": {
      "name": "python",
      "version": "3.9.15",
      "mimetype": "text/x-python",
      "file_extension": ".py",
      "pygments_lexer": "ipython3",
      "codemirror_mode": {
        "name": "ipython",
        "version": 3
      },
      "nbconvert_exporter": "python"
    },
    "deepnote_notebook_id": "8d49e53e32e14bc390f58737ab18c268",
    "deepnote_execution_queue": [],
    "deepnote_persisted_session": {
      "createdAt": "2023-04-06T16:20:59.951Z"
    },
    "colab": {
      "provenance": []
    }
  }
}