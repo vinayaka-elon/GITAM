{
 "cells": [
  {
   "cell_type": "markdown",
   "id": "4bd9a677",
   "metadata": {},
   "source": [
    "### Dictionaries\n",
    "\n",
    "Like a list, a dictionary is a mutable collection of many values. But unlike indexes for lists, indexes for dictionaries can use *many different data types, not just integers.* \n",
    "\n",
    "Indexes for dictionaries are called **keys**, and a key with its associated value is called a **key-value** pair.\n",
    "\n",
    "In code, a dictionary is typed with braces, **{}**.\n"
   ]
  },
  {
   "cell_type": "code",
   "execution_count": null,
   "id": "b0b6e9b2",
   "metadata": {},
   "outputs": [],
   "source": [
    "# Example of a dictionary\n"
   ]
  },
  {
   "cell_type": "markdown",
   "id": "0472f1e4",
   "metadata": {},
   "source": [
    "#### keys(), values() and items() methods\n",
    "\n",
    "The values returned by these methods are not true lists: they cannot be modified and do not have an append() method. But these data types (**dict_keys, dict_values**, and **dict_items**, respectively) can be used in for loops.\n",
    "\n",
    "**Other methods**\n",
    "\n",
    "- get() \n",
    "- setdefault() "
   ]
  },
  {
   "cell_type": "code",
   "execution_count": null,
   "id": "713024e0",
   "metadata": {},
   "outputs": [],
   "source": [
    "# Example of keys()\n",
    "\n",
    "students.items()\n",
    "# Example of values()\n",
    "\n",
    "# Example of items()\n"
   ]
  },
  {
   "cell_type": "code",
   "execution_count": null,
   "id": "62e93ff6",
   "metadata": {},
   "outputs": [],
   "source": [
    "# Checking whether a key or an item exists in a dictionary\n",
    "\n",
    "\n",
    "# Example of get()\n"
   ]
  },
  {
   "cell_type": "markdown",
   "id": "0b1d58c1",
   "metadata": {},
   "source": [
    "#### Nested dictionaries\n",
    "\n",
    "As you model more complicated things, you may find you need dictionaries and lists that contain other dictionaries and lists. Lists are useful to contain an ordered series of values, and dictionaries are useful for associating keys with values. "
   ]
  },
  {
   "cell_type": "code",
   "execution_count": null,
   "id": "51c7a91b",
   "metadata": {},
   "outputs": [],
   "source": [
    "# Example of nested dictionaries\n",
    "\n"
   ]
  }
 ],
 "metadata": {
  "kernelspec": {
   "display_name": "base",
   "language": "python",
   "name": "python3"
  },
  "language_info": {
   "codemirror_mode": {
    "name": "ipython",
    "version": 3
   },
   "file_extension": ".py",
   "mimetype": "text/x-python",
   "name": "python",
   "nbconvert_exporter": "python",
   "pygments_lexer": "ipython3",
   "version": "3.11.7"
  }
 },
 "nbformat": 4,
 "nbformat_minor": 5
}
