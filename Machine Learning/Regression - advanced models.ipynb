{
 "cells": [
  {
   "cell_type": "code",
   "execution_count": 1,
   "metadata": {},
   "outputs": [],
   "source": [
    "# Import libraries\n",
    "\n",
    "import numpy as np \n",
    "import matplotlib.pyplot as plt\n",
    "import pandas as pd\n",
    "from sklearn.model_selection import train_test_split, GridSearchCV, cross_validate\n",
    "from sklearn.linear_model import SGDRegressor\n",
    "from sklearn.pipeline import make_pipeline\n",
    "from sklearn.metrics import mean_squared_error\n",
    "from sklearn.preprocessing import StandardScaler, MinMaxScaler"
   ]
  },
  {
   "cell_type": "code",
   "execution_count": 2,
   "metadata": {},
   "outputs": [],
   "source": [
    "df = pd.read_csv(\"insurance.csv\")\n",
    "\n",
    "df['sex'] = df['sex'].astype('category')\n",
    "df['sex'] = df['sex'].cat.codes\n",
    "\n",
    "df['smoker'] = df['smoker'].astype('category')\n",
    "df['smoker'] = df['smoker'].cat.codes\n",
    "\n",
    "df['region'] = df['region'].astype('category')\n",
    "df['region'] = df['region'].cat.codes\n",
    "\n",
    "y = df['charges']\n",
    "X = df.drop('charges',axis=1)\n",
    "\n",
    "X_train, X_test, y_train, y_test = train_test_split(X, y, test_size = .2, random_state = 42)\n",
    "X_test, X_val, y_test, y_val = train_test_split(X_test, y_test, test_size = .2, random_state = 42)"
   ]
  },
  {
   "cell_type": "markdown",
   "metadata": {},
   "source": [
    "## Polynomial Regression"
   ]
  },
  {
   "cell_type": "code",
   "execution_count": 3,
   "metadata": {},
   "outputs": [],
   "source": [
    "from sklearn.preprocessing import PolynomialFeatures\n",
    "from sklearn.linear_model import LinearRegression\n",
    "\n",
    "poly_features = PolynomialFeatures(degree=2, include_bias=False)\n",
    "X_train_poly = poly_features.fit_transform(X_train)\n",
    "X_test_poly = poly_features.fit_transform(X_test)\n",
    "X_val_poly = poly_features.fit_transform(X_val)\n",
    "\n",
    "\n",
    "sgd_reg = SGDRegressor(max_iter=1000, tol=1e-3, random_state=42)\n",
    "sgd_reg.fit(X_train_poly, y_train.ravel())\n",
    "poly_train_pred = sgd_reg.predict(X_train_poly)\n",
    "poly_test_pred = sgd_reg.predict(X_test_poly)\n",
    "poly_val_pred = sgd_reg.predict(X_val_poly)"
   ]
  },
  {
   "cell_type": "code",
   "execution_count": null,
   "metadata": {},
   "outputs": [],
   "source": [
    "plt.scatter(X_test['age'], y_test, color = \"red\", label = \"Test data\")\n",
    "plt.scatter(X_test['age'], poly_test_pred, color = \"green\", label = \"predictions\")\n",
    "plt.xlabel(\"Age\")\n",
    "plt.ylabel(\"Charges\")\n",
    "plt.legend(loc=\"upper left\")\n",
    "plt.show()"
   ]
  },
  {
   "cell_type": "code",
   "execution_count": null,
   "metadata": {},
   "outputs": [],
   "source": [
    "val_error = mean_squared_error(y_val, poly_val_pred)\n",
    "train_error = mean_squared_error(y_train, poly_train_pred)\n",
    "\n",
    "print(\"Training MSE: \", train_error)\n",
    "print(\"Validation MSE: \", val_error)\n",
    "\n",
    "score = sgd_reg.score(X_train_poly, y_train)\n",
    "print(\"R-squared:\", score)"
   ]
  },
  {
   "cell_type": "markdown",
   "metadata": {},
   "source": [
    "## Ridge Regression"
   ]
  },
  {
   "cell_type": "code",
   "execution_count": null,
   "metadata": {},
   "outputs": [],
   "source": [
    "ridge = make_pipeline(StandardScaler(), SGDRegressor(alpha=0.0001, epsilon=0.01, eta0=0.1, penalty=\"l2\", max_iter=1000, tol=1e-3, random_state=42))\n",
    "ridge.fit(X_train, y_train)\n",
    "y_pred = ridge.predict(X_test)\n",
    "\n",
    "plt.scatter(X_test['age'], y_test, color = \"red\", label = \"Test data\")\n",
    "plt.scatter(X_test['age'], y_pred, color = \"green\", label = \"predictions\")\n",
    "plt.xlabel(\"Age\")\n",
    "plt.ylabel(\"Charges\")\n",
    "plt.legend(loc=\"upper left\")\n",
    "plt.show()"
   ]
  },
  {
   "cell_type": "code",
   "execution_count": null,
   "metadata": {},
   "outputs": [],
   "source": [
    "ridge_train_pred = ridge.predict(X_train)\n",
    "ridge_test_pred = ridge.predict(X_test)\n",
    "ridge_val_pred = ridge.predict(X_val)\n",
    "\n",
    "val_error = mean_squared_error(y_val, ridge_val_pred)\n",
    "train_error = mean_squared_error(y_train, ridge_train_pred)\n",
    "\n",
    "# Get validation scores\n",
    "scores = cross_validate(ridge, X_train, y_train, cv=3)\n",
    "\n",
    "print(\"Training MSE: \", train_error)\n",
    "print(\"Validation MSE: \", np.mean(scores['test_score']))\n",
    "\n",
    "score = ridge.score(X_test, y_test)\n",
    "print(\"R-squared:\", score)"
   ]
  },
  {
   "cell_type": "markdown",
   "metadata": {},
   "source": [
    "## Lasso Regression"
   ]
  },
  {
   "cell_type": "code",
   "execution_count": null,
   "metadata": {},
   "outputs": [],
   "source": [
    "lasso = make_pipeline(StandardScaler(), SGDRegressor(alpha=0.0001, epsilon=0.01, eta0=0.1, penalty=\"l1\", max_iter=1000, tol=1e-3, random_state=42))\n",
    "lasso.fit(X_train, y_train)\n",
    "lasso_train_pred = lasso.predict(X_train)\n",
    "lasso_test_pred = lasso.predict(X_test)\n",
    "lasso_val_pred = lasso.predict(X_val)\n",
    "\n",
    "val_error = mean_squared_error(y_val, lasso_val_pred)\n",
    "train_error = mean_squared_error(y_train, lasso_train_pred)\n",
    "\n",
    "# Get validation scores\n",
    "scores = cross_validate(lasso, X_train, y_train, cv=3)\n",
    "\n",
    "print(\"Training MSE: \", train_error)\n",
    "print(\"Validation MSE: \", np.mean(scores['test_score']))\n",
    "\n",
    "score = lasso.score(X_test, y_test)\n",
    "print(\"R-squared:\", score)"
   ]
  },
  {
   "cell_type": "markdown",
   "metadata": {},
   "source": [
    "## Elastic Net"
   ]
  },
  {
   "cell_type": "code",
   "execution_count": null,
   "metadata": {},
   "outputs": [],
   "source": [
    "elasticnet = make_pipeline(StandardScaler(), SGDRegressor(alpha=0.0001, epsilon=0.01, eta0=0.1, penalty=\"elasticnet\", max_iter=1000, tol=1e-3, random_state=42))\n",
    "elasticnet.fit(X_train, y_train)\n",
    "elasticnet_train_pred = elasticnet.predict(X_train)\n",
    "elasticnet_test_pred = elasticnet.predict(X_test)\n",
    "elasticnet_val_pred = elasticnet.predict(X_val)\n",
    "\n",
    "val_error = mean_squared_error(y_val, elasticnet_val_pred)\n",
    "train_error = mean_squared_error(y_train, elasticnet_train_pred)\n",
    "\n",
    "# Get validation scores\n",
    "scores = cross_validate(elasticnet, X_train, y_train, cv=3)\n",
    "\n",
    "print(\"Training MSE: \", train_error)\n",
    "print(\"Validation MSE: \", np.mean(scores['test_score']))\n",
    "\n",
    "score = elasticnet.score(X_test, y_test)\n",
    "print(\"R-squared:\", score)"
   ]
  },
  {
   "cell_type": "markdown",
   "metadata": {},
   "source": [
    "## Grid Search"
   ]
  },
  {
   "cell_type": "code",
   "execution_count": null,
   "metadata": {},
   "outputs": [],
   "source": [
    "# Grid search - this will take about 1 minute.\n",
    "\n",
    "SGD = SGDRegressor(penalty=\"elasticnet\")\n",
    "\n",
    "parameters = {\n",
    "    'alpha': 10.0 ** -np.arange(1, 7),\n",
    "    'loss': ['huber', 'epsilon_insensitive'],\n",
    "    'learning_rate': ['constant', 'optimal', 'invscaling'],\n",
    "}\n",
    "clf = GridSearchCV(estimator = SGD, param_grid = parameters, cv = 2,  verbose=3)\n",
    "\n",
    "clf.fit(X_train, y_train)"
   ]
  },
  {
   "cell_type": "code",
   "execution_count": null,
   "metadata": {},
   "outputs": [],
   "source": [
    "clf.best_params_"
   ]
  },
  {
   "cell_type": "markdown",
   "metadata": {},
   "source": [
    "## Early Stopping"
   ]
  },
  {
   "cell_type": "code",
   "execution_count": null,
   "metadata": {},
   "outputs": [],
   "source": [
    "elasticnet = make_pipeline(StandardScaler(), SGDRegressor(early_stopping = True, penalty=\"elasticnet\", max_iter=1000, tol=1e-3, random_state=42))\n",
    "elasticnet.fit(X_train, y_train)\n",
    "elasticnet_train_pred = elasticnet.predict(X_train)\n",
    "elasticnet_test_pred = elasticnet.predict(X_test)\n",
    "elasticnet_val_pred = elasticnet.predict(X_val)\n",
    "\n",
    "val_error = mean_squared_error(y_val, elasticnet_val_pred)\n",
    "train_error = mean_squared_error(y_train, elasticnet_train_pred)\n",
    "\n",
    "# Get validation scores\n",
    "scores = cross_validate(elasticnet, X_train, y_train, cv=3)\n",
    "\n",
    "print(\"Training MSE: \", train_error)\n",
    "print(\"Validation MSE: \", np.mean(scores['test_score']))\n",
    "\n",
    "score = elasticnet.score(X_test, y_test)\n",
    "print(\"R-squared:\", score)"
   ]
  },
  {
   "cell_type": "code",
   "execution_count": null,
   "metadata": {},
   "outputs": [],
   "source": []
  }
 ],
 "metadata": {
  "kernelspec": {
   "display_name": "base",
   "language": "python",
   "name": "python3"
  },
  "language_info": {
   "codemirror_mode": {
    "name": "ipython",
    "version": 3
   },
   "file_extension": ".py",
   "mimetype": "text/x-python",
   "name": "python",
   "nbconvert_exporter": "python",
   "pygments_lexer": "ipython3",
   "version": "3.11.7"
  },
  "nav_menu": {},
  "toc": {
   "navigate_menu": true,
   "number_sections": true,
   "sideBar": true,
   "threshold": 6,
   "toc_cell": false,
   "toc_section_display": "block",
   "toc_window_display": false
  }
 },
 "nbformat": 4,
 "nbformat_minor": 4
}
