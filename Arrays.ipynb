{
 "cells": [
  {
   "cell_type": "markdown",
   "id": "c73c794f",
   "metadata": {},
   "source": [
    "### Arrays\n",
    "\n",
    "Numpy is the core library for scientific computing in Python. It provides a high-performance multidimensional array object, and tools for working with these arrays. \n",
    "\n",
    "A numpy array is a grid of values, all of the same type, and is indexed by a tuple of nonnegative integers. The number of dimensions is the **rank** of the array; the **shape** of an array is a tuple of integers giving the size of the array along each dimension.\n",
    "\n",
    "We can initialize numpy arrays from nested Python lists, and access elements using square brackets:\n",
    "\n",
    "- Using array: np.array(list)\n",
    "- Using linspace: np.linspace(0, 10, 5)  # Start, stop, number of points\n",
    "- Using arange: np.arange(0, 10, 2)  # Start, stop, step"
   ]
  },
  {
   "cell_type": "code",
   "execution_count": 65,
   "id": "9382c33f",
   "metadata": {},
   "outputs": [],
   "source": [
    "# Creating an array - from a list, linspace, arange\n"
   ]
  },
  {
   "cell_type": "markdown",
   "id": "5ad16520",
   "metadata": {},
   "source": [
    "Numpy also provides many functions to create arrays:"
   ]
  },
  {
   "cell_type": "code",
   "execution_count": 66,
   "id": "39a65aed",
   "metadata": {},
   "outputs": [],
   "source": [
    "# Create an array of all zeros - zeros\n",
    "\n",
    "# Create an array of all ones - ones\n",
    "\n",
    "# Create a constant array - full\n",
    "\n",
    "# Create a 2x2 identity matrix - eye\n",
    "\n",
    "# Create an array filled with random values - random.random\n"
   ]
  },
  {
   "cell_type": "markdown",
   "id": "18ed5996",
   "metadata": {},
   "source": [
    "#### Array/list methods\n",
    "\n",
    "\n",
    "| **Method**        | **Description**                                                | **Example**                                              |\n",
    "|--------------------|----------------------------------------------------------------|----------------------------------------------------------|\n",
    "| `append()`         | Adds values to the end of an array (using `np.append()`)       | `np.append(arr, [4, 5], axis =0)`                                 |\n",
    "| `copy()`           | Returns a copy of the array                                   | `arr.copy()`                                             |\n",
    "| `insert()`         | Inserts values at a specific position (using slicing)         | `np.insert(arr, 1, 10)`                                  |\n",
    "| `pop()`            | Removes an element at a specific index                        | `np.delete(arr, 2, axis =0)`                                      |\n",
    "| `remove()`         | Removes the first occurrence of a value (use filtering)       | `arr[arr != 20]`                                         |\n",
    "| `reverse()`        | Reverses the array order                                      | `arr[::-1]`                                              |\n",
    "\n"
   ]
  },
  {
   "cell_type": "code",
   "execution_count": null,
   "id": "240d8aaf",
   "metadata": {},
   "outputs": [],
   "source": [
    "# Examples of using array methods\n"
   ]
  },
  {
   "cell_type": "markdown",
   "id": "c6e43cf2",
   "metadata": {},
   "source": [
    "#### Array indexing\n",
    "\n",
    "Slicing: Similar to Python lists, numpy arrays can be sliced. Since arrays may be multidimensional, you must specify a slice for each dimension of the array:"
   ]
  },
  {
   "cell_type": "code",
   "execution_count": 68,
   "id": "ba327f2a",
   "metadata": {},
   "outputs": [],
   "source": [
    "# first n elements --> arr[:n]\n",
    "\n",
    "# elements after index \"n\" --> arr[n:]\n",
    "\n",
    "# middle sub-array --> arr[n:m]\n",
    "\n",
    "# all elements, reversed --> arr[::-1]\n"
   ]
  },
  {
   "cell_type": "markdown",
   "id": "2afefd2e",
   "metadata": {},
   "source": [
    "#### Multi-dimensional arrays\n"
   ]
  },
  {
   "cell_type": "code",
   "execution_count": 69,
   "id": "0ca21b49",
   "metadata": {
    "scrolled": true
   },
   "outputs": [],
   "source": [
    "\n",
    "# sub-array with rows and columns --> arr[n:m, n:m]\n",
    "\n",
    "# access row or column --> arr[n, :] or arr[:, n]\n"
   ]
  },
  {
   "cell_type": "code",
   "execution_count": 70,
   "id": "e4395600",
   "metadata": {},
   "outputs": [],
   "source": [
    "# Example of editing array values\n"
   ]
  },
  {
   "cell_type": "markdown",
   "id": "2554bf6f",
   "metadata": {},
   "source": [
    "#### Array operations\n",
    "\n",
    "| Operation            | Code Example                                                                 | Description                                        |\n",
    "|----------------------|-------------------------------------------------------------------------------|----------------------------------------------------|\n",
    "| **Array Addition**    | `array1 + array2` <br> `np.array([1, 2, 3]) + np.array([4, 5, 6])`           | Adds corresponding elements of two arrays.         |\n",
    "| **Array Subtraction** | `array1 - array2` <br> `np.array([1, 2, 3]) - np.array([4, 5, 6])`           | Subtracts corresponding elements of two arrays.    |\n",
    "| **Array Multiplication** | `array1 * array2` <br> `np.array([1, 2, 3]) * np.array([4, 5, 6])`       | Multiplies corresponding elements of two arrays.   |\n",
    "| **Array Division**    | `array1 / array2` <br> `np.array([1, 2, 3]) / np.array([4, 5, 6])`           | Divides corresponding elements of two arrays.      |\n",
    "| **Square Root**       | `np.sqrt(array)` <br> `np.sqrt(np.array([1, 4, 9]))`                        | Computes the square root of each element in the array. |\n",
    "| **Dot Product**       | `np.dot(array1, array2)` <br> `np.dot(np.array([1, 2, 3]), np.array([4, 5, 6]))` | Computes the dot product of two arrays.            |\n",
    "| **Sum**               | `np.sum(array)` <br> `np.sum(np.array([1, 2, 3, 4, 5]))`                    | Computes the sum of all elements in the array.     |\n",
    "| **Transpose**         | `array.T` <br> `np.array([[1, 2], [3, 4], [5, 6]]).T`                        | Computes the transpose of a 2D array (matrix).     |\n",
    "\n"
   ]
  },
  {
   "cell_type": "code",
   "execution_count": 71,
   "id": "6bd29638",
   "metadata": {},
   "outputs": [],
   "source": [
    "# Example of array operations\n"
   ]
  },
  {
   "cell_type": "code",
   "execution_count": 72,
   "id": "cd439b34",
   "metadata": {},
   "outputs": [],
   "source": [
    "# Example of using loops with arrays\n"
   ]
  }
 ],
 "metadata": {
  "kernelspec": {
   "display_name": "base",
   "language": "python",
   "name": "python3"
  },
  "language_info": {
   "codemirror_mode": {
    "name": "ipython",
    "version": 3
   },
   "file_extension": ".py",
   "mimetype": "text/x-python",
   "name": "python",
   "nbconvert_exporter": "python",
   "pygments_lexer": "ipython3",
   "version": "3.11.7"
  }
 },
 "nbformat": 4,
 "nbformat_minor": 5
}
