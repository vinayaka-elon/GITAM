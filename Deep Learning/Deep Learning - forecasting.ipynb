{
 "cells": [
  {
   "cell_type": "code",
   "execution_count": null,
   "id": "39a8286e",
   "metadata": {},
   "outputs": [],
   "source": [
    "from pandas_datareader import data as pdr\n",
    "import yfinance as yf\n",
    "\n",
    "import pandas as pd\n",
    "import numpy as np\n",
    "import matplotlib.pyplot as plt\n",
    "import sklearn\n",
    "from tensorflow import keras\n",
    "from sklearn.preprocessing import MinMaxScaler\n",
    "from sklearn.model_selection import train_test_split\n",
    "from sklearn.metrics import mean_squared_error"
   ]
  },
  {
   "cell_type": "markdown",
   "id": "bbd5977d",
   "metadata": {},
   "source": [
    "Librarires to collect stock price data.\n",
    "\n",
    "- pip install pandas_datareader\n",
    "- pip install yfinance"
   ]
  },
  {
   "cell_type": "code",
   "execution_count": null,
   "id": "12f30415",
   "metadata": {},
   "outputs": [],
   "source": [
    "yf.pdr_override()\n",
    "\n",
    "# download dataframe\n",
    "df = pdr.get_data_yahoo(\"AAPL\", start=\"2020-11-01\", end=\"2022-09-01\", interval='60m')\n",
    "\n",
    "df"
   ]
  },
  {
   "cell_type": "code",
   "execution_count": null,
   "id": "1ac405c8",
   "metadata": {},
   "outputs": [],
   "source": [
    "data = df.iloc[:, 0: 1].values"
   ]
  },
  {
   "cell_type": "code",
   "execution_count": null,
   "id": "a774bdb7",
   "metadata": {},
   "outputs": [],
   "source": [
    "data"
   ]
  },
  {
   "cell_type": "code",
   "execution_count": null,
   "id": "1d00a08c",
   "metadata": {},
   "outputs": [],
   "source": [
    "sc = MinMaxScaler(feature_range = (0, 1))\n",
    "data = sc.fit_transform(data)"
   ]
  },
  {
   "cell_type": "code",
   "execution_count": null,
   "id": "b984f534",
   "metadata": {},
   "outputs": [],
   "source": [
    "X = []\n",
    "y  = []\n",
    "\n",
    "for i in range(60, len(data)):\n",
    "    X.append(data[i-60: i, 0])\n",
    "    y.append(data[i, 0])\n",
    "    \n",
    "X, y = np.array(X), np.array(y)"
   ]
  },
  {
   "cell_type": "code",
   "execution_count": null,
   "id": "6918361a",
   "metadata": {},
   "outputs": [],
   "source": [
    "X"
   ]
  },
  {
   "cell_type": "code",
   "execution_count": null,
   "id": "cde9a0d4",
   "metadata": {},
   "outputs": [],
   "source": [
    "X_train, X_test, y_train, y_test = train_test_split(X, y, test_size = .02, random_state = 42)"
   ]
  },
  {
   "cell_type": "code",
   "execution_count": null,
   "id": "e3acc55b",
   "metadata": {},
   "outputs": [],
   "source": [
    "print(X_train.shape)\n",
    "X_train = np.reshape(X_train, newshape = (X_train.shape[0], X_train.shape[1], 1))\n",
    "X_test = np.reshape(X_test, newshape = (X_test.shape[0], X_test.shape[1], 1))\n",
    "X_test"
   ]
  },
  {
   "cell_type": "markdown",
   "id": "487c37f6",
   "metadata": {},
   "source": [
    "### RNN"
   ]
  },
  {
   "cell_type": "code",
   "execution_count": null,
   "id": "0b043176",
   "metadata": {},
   "outputs": [],
   "source": [
    "rnn = keras.Sequential()\n",
    "\n",
    "rnn.add(keras.layers.SimpleRNN(128, return_sequences=True))\n",
    "rnn.add(keras.layers.SimpleRNN(128, return_sequences=True))\n",
    "rnn.add(keras.layers.SimpleRNN(256, return_sequences=True))\n",
    "rnn.add(keras.layers.SimpleRNN(32))\n",
    "rnn.add(keras.layers.Dense(units = 1))\n",
    "\n",
    "rnn.compile(optimizer='rmsprop', loss='mean_squared_error')\n",
    "rnn.fit(X_train, y_train, epochs=100, batch_size=32)"
   ]
  },
  {
   "cell_type": "markdown",
   "id": "9ba5c0ac",
   "metadata": {},
   "source": [
    "### LSTM\n",
    "\n",
    "- Dropout: neurons/ data intentionally dropped from a neural network to improve processing and time to results\n",
    "- Finally later --> Dense (units = number of predictions)"
   ]
  },
  {
   "cell_type": "code",
   "execution_count": null,
   "id": "8d838b98",
   "metadata": {
    "scrolled": false
   },
   "outputs": [],
   "source": [
    "lstm = keras.Sequential()\n",
    "\n",
    "lstm.add(keras.layers.LSTM(units = 50, return_sequences = True, input_shape = (X_train.shape[1], 1)))\n",
    "lstm.add(keras.layers.Dropout(rate = 0.2))\n",
    "lstm.add(keras.layers.LSTM(units = 50, return_sequences = True))\n",
    "lstm.add(keras.layers.Dropout(rate = 0.2))\n",
    "lstm.add(keras.layers.LSTM(units = 50, return_sequences = True))\n",
    "lstm.add(keras.layers.Dropout(rate = 0.2))\n",
    "lstm.add(keras.layers.LSTM(units = 50, return_sequences = False))\n",
    "lstm.add(keras.layers.Dropout(rate = 0.2))\n",
    "lstm.add(keras.layers.Dense(units = 1))\n",
    "\n",
    "lstm.compile(optimizer = 'adam', loss = 'mean_squared_error')\n",
    "lstm.fit(x = X_train, y = y_train, batch_size = 32, epochs = 100)"
   ]
  },
  {
   "cell_type": "markdown",
   "id": "eaf47642",
   "metadata": {},
   "source": [
    "### GRU"
   ]
  },
  {
   "cell_type": "code",
   "execution_count": null,
   "id": "57f2bfad",
   "metadata": {},
   "outputs": [],
   "source": [
    "gru = keras.Sequential()\n",
    "\n",
    "gru.add(keras.layers.GRU(units=50, return_sequences=True, input_shape=(X_train.shape[1],1), activation='tanh'))\n",
    "gru.add(keras.layers.GRU(units=50, return_sequences=True))\n",
    "gru.add(keras.layers.GRU(units=50, return_sequences=True))\n",
    "gru.add(keras.layers.GRU(units=50, return_sequences=False, activation='tanh'))\n",
    "gru.add(keras.layers.Dense(units=1))\n",
    "\n",
    "history = gru.compile(optimizer='rmsprop', loss='mean_squared_error')\n",
    "gru.fit(X_train, y_train, batch_size = 32, epochs = 100)"
   ]
  },
  {
   "cell_type": "code",
   "execution_count": null,
   "id": "2d86c5bc",
   "metadata": {},
   "outputs": [],
   "source": [
    "predicted_rnn = rnn.predict(X_test)\n",
    "predicted_lstm = lstm.predict(X_test)\n",
    "predicted_gru = gru.predict(X_test)\n",
    "\n",
    "predicted_rnn = sc.inverse_transform(predicted_rnn)\n",
    "predicted_lstm = sc.inverse_transform(predicted_lstm)\n",
    "predicted_gru = sc.inverse_transform(predicted_gru)"
   ]
  },
  {
   "cell_type": "code",
   "execution_count": null,
   "id": "74a784b8",
   "metadata": {},
   "outputs": [],
   "source": [
    "org = sc.inverse_transform(y_test.reshape(-1, 1))\n",
    "\n",
    "plt.plot(org, label = 'Real price')\n",
    "plt.plot(predicted_rnn, label = 'Recurrent Neural Network')\n",
    "plt.plot(predicted_lstm, label = 'Long Short Term Memory Network')\n",
    "plt.plot(predicted_gru, label = 'Gated Recurrent Unit')\n",
    "plt.title('Google price prediction')\n",
    "plt.xlabel('Time')\n",
    "plt.ylabel('Price')\n",
    "plt.legend()\n",
    "plt.show()"
   ]
  },
  {
   "cell_type": "code",
   "execution_count": null,
   "id": "98cf70be",
   "metadata": {},
   "outputs": [],
   "source": [
    "rmse_rnn = np.sqrt(mean_squared_error(org, predicted_rnn))\n",
    "rmse_lstm = np.sqrt(mean_squared_error(org, predicted_lstm))\n",
    "rmse_gru = np.sqrt(mean_squared_error(org, predicted_gru))\n",
    "\n",
    "print ('Test RMSE - RNN: %.3f' % rmse_rnn)\n",
    "print ('Test RMSE - LSTM: %.3f' % rmse_lstm)\n",
    "print ('Test RMSE - GRU: %.3f' % rmse_gru)"
   ]
  }
 ],
 "metadata": {
  "kernelspec": {
   "display_name": "Python 3",
   "language": "python",
   "name": "python3"
  },
  "language_info": {
   "codemirror_mode": {
    "name": "ipython",
    "version": 3
   },
   "file_extension": ".py",
   "mimetype": "text/x-python",
   "name": "python",
   "nbconvert_exporter": "python",
   "pygments_lexer": "ipython3",
   "version": "3.6.13"
  }
 },
 "nbformat": 4,
 "nbformat_minor": 5
}
