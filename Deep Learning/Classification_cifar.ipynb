{
 "cells": [
  {
   "cell_type": "markdown",
   "id": "1b3b0a9f",
   "metadata": {},
   "source": [
    "# Image Classification --> CNN\n",
    "\n",
    "- pip install tensorflow (python 3.7)"
   ]
  },
  {
   "cell_type": "code",
   "execution_count": 1,
   "id": "b4007253",
   "metadata": {},
   "outputs": [],
   "source": [
    "import tensorflow as tf"
   ]
  },
  {
   "cell_type": "markdown",
   "id": "c4d47021",
   "metadata": {},
   "source": [
    "#### Keras Datasets:\n",
    "\n",
    "- boston_housing module: Boston housing price regression dataset.\n",
    "- cifar10 module: CIFAR10 small images classification dataset.\n",
    "- cifar100 module: CIFAR100 small images classification dataset.\n",
    "- fashion_mnist module: Fashion-MNIST dataset.\n",
    "- imdb module: IMDB sentiment classification dataset.\n",
    "- mnist module: MNIST handwritten digits dataset.\n",
    "- reuters module: Reuters topic classification dataset."
   ]
  },
  {
   "cell_type": "code",
   "execution_count": 2,
   "id": "80c2bc65",
   "metadata": {},
   "outputs": [],
   "source": [
    "cifar_data = tf.keras.datasets.cifar10\n",
    "(X_train_full, y_train_full), (X_test, y_test) = cifar_data.load_data()"
   ]
  },
  {
   "cell_type": "markdown",
   "id": "d3f0ade5",
   "metadata": {},
   "source": [
    "Pixel intensity: 0 - 255 \\\n",
    "Dividing by 255 gives us pixels ranging between 0 and 1"
   ]
  },
  {
   "cell_type": "code",
   "execution_count": 67,
   "id": "aff28570",
   "metadata": {},
   "outputs": [],
   "source": [
    "X_valid, X_train = X_train_full[:1000] / 255.0, X_train_full[1000:5000] / 255.0\n",
    "y_valid, y_train = y_train_full[:1000], y_train_full[1000:5000]\n",
    "X_test = X_test[:500]\n",
    "y_test = y_test[:500]"
   ]
  },
  {
   "cell_type": "code",
   "execution_count": 68,
   "id": "06501bc5",
   "metadata": {},
   "outputs": [
    {
     "data": {
      "text/plain": [
       "(32, 32, 3)"
      ]
     },
     "execution_count": 68,
     "metadata": {},
     "output_type": "execute_result"
    }
   ],
   "source": [
    "X_train.shape[1:]"
   ]
  },
  {
   "cell_type": "code",
   "execution_count": 69,
   "id": "8f09309d",
   "metadata": {},
   "outputs": [],
   "source": [
    "def generate_model():\n",
    "    return tf.keras.models.Sequential([\n",
    "        tf.keras.layers.Conv2D(32, (3, 3), input_shape=X_train.shape[1:]),\n",
    "        tf.keras.layers.Activation('relu'),\n",
    "        tf.keras.layers.Conv2D(256, (3, 3), strides=(2,2)),\n",
    "        tf.keras.layers.Activation('relu'),\n",
    "        tf.keras.layers.MaxPooling2D(pool_size=(2, 2)),\n",
    "        tf.keras.layers.Activation('relu'),\n",
    "        tf.keras.layers.Conv2D(256, (3, 3), strides=(2,2)),\n",
    "        tf.keras.layers.Activation('relu'),\n",
    "        tf.keras.layers.MaxPooling2D(pool_size=(2, 2)),\n",
    "        tf.keras.layers.Activation('relu'),\n",
    "        tf.keras.layers.Flatten(),\n",
    "        tf.keras.layers.Dense(10),\n",
    "        tf.keras.layers.Activation('softmax')\n",
    "    ])\n",
    "\n",
    "model = generate_model()"
   ]
  },
  {
   "cell_type": "code",
   "execution_count": 70,
   "id": "b227451d",
   "metadata": {},
   "outputs": [
    {
     "name": "stdout",
     "output_type": "stream",
     "text": [
      "Model: \"sequential_161\"\n",
      "_________________________________________________________________\n",
      " Layer (type)                Output Shape              Param #   \n",
      "=================================================================\n",
      " conv2d_637 (Conv2D)         (None, 30, 30, 32)        896       \n",
      "                                                                 \n",
      " activation_957 (Activation)  (None, 30, 30, 32)       0         \n",
      "                                                                 \n",
      " conv2d_638 (Conv2D)         (None, 14, 14, 256)       73984     \n",
      "                                                                 \n",
      " activation_958 (Activation)  (None, 14, 14, 256)      0         \n",
      "                                                                 \n",
      " max_pooling2d_319 (MaxPooli  (None, 7, 7, 256)        0         \n",
      " ng2D)                                                           \n",
      "                                                                 \n",
      " activation_959 (Activation)  (None, 7, 7, 256)        0         \n",
      "                                                                 \n",
      " conv2d_639 (Conv2D)         (None, 3, 3, 256)         590080    \n",
      "                                                                 \n",
      " activation_960 (Activation)  (None, 3, 3, 256)        0         \n",
      "                                                                 \n",
      " max_pooling2d_320 (MaxPooli  (None, 1, 1, 256)        0         \n",
      " ng2D)                                                           \n",
      "                                                                 \n",
      " activation_961 (Activation)  (None, 1, 1, 256)        0         \n",
      "                                                                 \n",
      " flatten_161 (Flatten)       (None, 256)               0         \n",
      "                                                                 \n",
      " dense_318 (Dense)           (None, 10)                2570      \n",
      "                                                                 \n",
      " activation_962 (Activation)  (None, 10)               0         \n",
      "                                                                 \n",
      "=================================================================\n",
      "Total params: 667,530\n",
      "Trainable params: 667,530\n",
      "Non-trainable params: 0\n",
      "_________________________________________________________________\n"
     ]
    }
   ],
   "source": [
    "model.summary()"
   ]
  },
  {
   "cell_type": "code",
   "execution_count": 71,
   "id": "42829e60",
   "metadata": {},
   "outputs": [
    {
     "name": "stdout",
     "output_type": "stream",
     "text": [
      "Epoch 1/25\n",
      "16/16 [==============================] - 3s 170ms/step - loss: 2.2759 - accuracy: 0.1513 - val_loss: 2.1386 - val_accuracy: 0.2090\n",
      "Epoch 2/25\n",
      "16/16 [==============================] - 3s 161ms/step - loss: 2.1475 - accuracy: 0.2132 - val_loss: 2.0630 - val_accuracy: 0.2340\n",
      "Epoch 3/25\n",
      "16/16 [==============================] - 3s 159ms/step - loss: 2.0307 - accuracy: 0.2542 - val_loss: 2.0504 - val_accuracy: 0.2210\n",
      "Epoch 4/25\n",
      "16/16 [==============================] - 3s 159ms/step - loss: 1.9602 - accuracy: 0.2910 - val_loss: 2.0935 - val_accuracy: 0.2470\n",
      "Epoch 5/25\n",
      "16/16 [==============================] - 3s 165ms/step - loss: 1.9108 - accuracy: 0.3050 - val_loss: 2.1514 - val_accuracy: 0.2350\n",
      "Epoch 6/25\n",
      "16/16 [==============================] - 3s 167ms/step - loss: 1.8626 - accuracy: 0.3487 - val_loss: 1.7896 - val_accuracy: 0.3430\n",
      "Epoch 7/25\n",
      "16/16 [==============================] - 3s 167ms/step - loss: 1.7969 - accuracy: 0.3620 - val_loss: 1.8551 - val_accuracy: 0.3320\n",
      "Epoch 8/25\n",
      "16/16 [==============================] - 3s 158ms/step - loss: 1.7534 - accuracy: 0.3840 - val_loss: 1.7915 - val_accuracy: 0.3630\n",
      "Epoch 9/25\n",
      "16/16 [==============================] - 3s 164ms/step - loss: 1.7155 - accuracy: 0.3898 - val_loss: 1.7627 - val_accuracy: 0.3630\n",
      "Epoch 10/25\n",
      "16/16 [==============================] - 3s 161ms/step - loss: 1.6896 - accuracy: 0.3945 - val_loss: 1.7504 - val_accuracy: 0.3580\n",
      "Epoch 11/25\n",
      "16/16 [==============================] - 3s 165ms/step - loss: 1.6314 - accuracy: 0.4375 - val_loss: 1.7345 - val_accuracy: 0.3620\n",
      "Epoch 12/25\n",
      "16/16 [==============================] - 3s 168ms/step - loss: 1.5726 - accuracy: 0.4540 - val_loss: 1.6248 - val_accuracy: 0.4100\n",
      "Epoch 13/25\n",
      "16/16 [==============================] - 3s 167ms/step - loss: 1.5563 - accuracy: 0.4695 - val_loss: 1.9749 - val_accuracy: 0.3400\n",
      "Epoch 14/25\n",
      "16/16 [==============================] - 3s 163ms/step - loss: 1.5113 - accuracy: 0.4755 - val_loss: 1.6635 - val_accuracy: 0.3900\n",
      "Epoch 15/25\n",
      "16/16 [==============================] - 3s 161ms/step - loss: 1.4757 - accuracy: 0.4860 - val_loss: 1.6563 - val_accuracy: 0.4020\n",
      "Epoch 16/25\n",
      "16/16 [==============================] - 3s 163ms/step - loss: 1.4320 - accuracy: 0.5017 - val_loss: 1.6324 - val_accuracy: 0.4060\n",
      "Epoch 17/25\n",
      "16/16 [==============================] - 3s 164ms/step - loss: 1.4121 - accuracy: 0.5150 - val_loss: 1.6131 - val_accuracy: 0.4070\n",
      "Epoch 18/25\n",
      "16/16 [==============================] - 3s 168ms/step - loss: 1.3726 - accuracy: 0.5278 - val_loss: 1.6556 - val_accuracy: 0.4080\n",
      "Epoch 19/25\n",
      "16/16 [==============================] - 3s 172ms/step - loss: 1.3481 - accuracy: 0.5437 - val_loss: 1.6454 - val_accuracy: 0.4280\n",
      "Epoch 20/25\n",
      "16/16 [==============================] - 3s 158ms/step - loss: 1.2968 - accuracy: 0.5577 - val_loss: 1.5853 - val_accuracy: 0.4300\n",
      "Epoch 21/25\n",
      "16/16 [==============================] - 3s 165ms/step - loss: 1.2555 - accuracy: 0.5715 - val_loss: 1.6248 - val_accuracy: 0.4400\n",
      "Epoch 22/25\n",
      "16/16 [==============================] - 3s 166ms/step - loss: 1.2333 - accuracy: 0.5922 - val_loss: 1.5859 - val_accuracy: 0.4450\n",
      "Epoch 23/25\n",
      "16/16 [==============================] - 3s 170ms/step - loss: 1.1960 - accuracy: 0.5805 - val_loss: 1.5970 - val_accuracy: 0.4250\n",
      "Epoch 24/25\n",
      "16/16 [==============================] - 3s 176ms/step - loss: 1.1684 - accuracy: 0.6130 - val_loss: 1.6900 - val_accuracy: 0.4270\n",
      "Epoch 25/25\n",
      "16/16 [==============================] - 3s 175ms/step - loss: 1.1209 - accuracy: 0.6233 - val_loss: 1.7482 - val_accuracy: 0.4050\n",
      "16/16 [==============================] - 1s 7ms/step - loss: 372.2642 - accuracy: 0.3080\n",
      "Test loss: 372.26422119140625\n",
      "Test accuracy: 0.30799999833106995\n"
     ]
    }
   ],
   "source": [
    "opt = tf.keras.optimizers.RMSprop(learning_rate=0.001, decay=1e-6)\n",
    "model.compile(loss='sparse_categorical_crossentropy', optimizer=opt, metrics=['accuracy'])\n",
    "history = model.fit(X_train, y_train, batch_size=256, epochs=25, validation_data=(X_valid, y_valid), shuffle=True)\n",
    "\n",
    "scores = model.evaluate(X_test, y_test, verbose=1)\n",
    "print('Test loss:', scores[0])\n",
    "print('Test accuracy:', scores[1])"
   ]
  },
  {
   "cell_type": "code",
   "execution_count": 72,
   "id": "0c3acd5b",
   "metadata": {},
   "outputs": [
    {
     "name": "stdout",
     "output_type": "stream",
     "text": [
      "16/16 [==============================] - 0s 7ms/step\n",
      "Confusion matrix, without normalization\n",
      "[[17  3  0  0  0  1  1  0 34  1]\n",
      " [ 0 28  0  0  0  0  0  0 12  1]\n",
      " [ 6  5  6  2  0  5  0  0 25  2]\n",
      " [ 0  7  1  9  0 15  0  0 15  2]\n",
      " [ 1  5  1  1  0  2  0  1 26  3]\n",
      " [ 2  5  4  4  0 16  0  0 15  2]\n",
      " [ 1 14  1  3  0  5 15  0 14  1]\n",
      " [ 3  8  0  2  1  5  0  2 19  7]\n",
      " [ 3  6  0  0  0  1  0  0 46  1]\n",
      " [ 0 11  0  0  0  0  1  0 29 15]]\n"
     ]
    },
    {
     "data": {
      "image/png": "[encoded data removed]",
      "text/plain": [
       "<Figure size 1000x700 with 2 Axes>"
      ]
     },
     "metadata": {},
     "output_type": "display_data"
    }
   ],
   "source": [
    "# Plot confusion matrix\n",
    "from sklearn.metrics import confusion_matrix\n",
    "import itertools\n",
    "import matplotlib.pyplot  as plt\n",
    "import numpy as np\n",
    "\n",
    "plt.rcParams['figure.figsize'] = [10,7]\n",
    "\n",
    "def plot_confusion_matrix(cm, classes,normalize=False,title='Confusion matrix', cmap=plt.cm.Blues):\n",
    "\n",
    "    if normalize:\n",
    "        cm = cm.astype('float') / cm.sum(axis=1)[:, np.newaxis]\n",
    "        print(\"Normalized confusion matrix\")\n",
    "    else:\n",
    "        print('Confusion matrix, without normalization')\n",
    "    \n",
    "    print(cm)\n",
    "    plt.imshow(cm, interpolation='nearest', cmap=cmap)\n",
    "    plt.title(title)\n",
    "    plt.colorbar()\n",
    "    tick_marks = np.arange(len(classes))\n",
    "    plt.xticks(tick_marks, classes, rotation=45)\n",
    "    plt.yticks(tick_marks, classes)\n",
    "    fmt = '.2f' if normalize else 'd'\n",
    "    thresh = cm.max() / 2.\n",
    "    for i, j in itertools.product(range(cm.shape[0]), range(cm.shape[1])):\n",
    "        plt.text(j, i, format(cm[i, j], fmt), horizontalalignment=\"center\", color=\"white\" if cm[i, j] > thresh else \"black\")\n",
    "        plt.tight_layout()\n",
    "        plt.ylabel('True label')\n",
    "        plt.xlabel('Predicted label')\n",
    "        \n",
    "    plt.show()\n",
    "\n",
    "p_test = model.predict(X_test).argmax(axis=1)\n",
    "cm = confusion_matrix(y_test, p_test)\n",
    "plot_confusion_matrix(cm, list(range(10)))\n"
   ]
  },
  {
   "cell_type": "code",
   "execution_count": 73,
   "id": "111f5305",
   "metadata": {},
   "outputs": [
    {
     "data": {
      "image/png": "[encoded data removed]",
      "text/plain": [
       "<Figure size 800x500 with 1 Axes>"
      ]
     },
     "metadata": {},
     "output_type": "display_data"
    }
   ],
   "source": [
    "import pandas as pd\n",
    "import matplotlib.pyplot as plt\n",
    "import numpy as np\n",
    "\n",
    "pd.DataFrame(history.history).plot(figsize=(8, 5))\n",
    "plt.grid(True)\n",
    "plt.show()"
   ]
  },
  {
   "cell_type": "markdown",
   "id": "b4c3cb49",
   "metadata": {},
   "source": [
    "### LeNet architecture"
   ]
  },
  {
   "cell_type": "code",
   "execution_count": 49,
   "id": "b8670fa0",
   "metadata": {},
   "outputs": [],
   "source": [
    "lenet_5_model = tf.keras.models.Sequential([\n",
    "    tf.keras.layers.Conv2D(6, kernel_size=5, strides=1,  activation='tanh', input_shape=X_train[0].shape, padding='same'), #C1\n",
    "    tf.keras.layers.AveragePooling2D(), #S2\n",
    "    tf.keras.layers.Conv2D(16, kernel_size=5, strides=1, activation='tanh', padding='valid'), #C3\n",
    "    tf.keras.layers.AveragePooling2D(), #S4\n",
    "    tf.keras.layers.Conv2D(120, kernel_size=5, strides=1, activation='tanh', padding='valid'), #C5\n",
    "    tf.keras.layers.Flatten(), #Flatten    \n",
    "    tf.keras.layers.Dense(84, activation='tanh'), #F6\n",
    "    tf.keras.layers.Dense(10, activation='softmax') #Output layer\n",
    "])"
   ]
  },
  {
   "cell_type": "code",
   "execution_count": 50,
   "id": "387919d7",
   "metadata": {},
   "outputs": [
    {
     "name": "stdout",
     "output_type": "stream",
     "text": [
      "Epoch 1/25\n"
     ]
    },
    {
     "name": "stderr",
     "output_type": "stream",
     "text": [
      "C:\\Users\\gudev\\anaconda3\\envs\\busa\\lib\\site-packages\\keras\\optimizers\\optimizer_v2\\rmsprop.py:140: UserWarning: The `lr` argument is deprecated, use `learning_rate` instead.\n",
      "  super().__init__(name, **kwargs)\n"
     ]
    },
    {
     "name": "stdout",
     "output_type": "stream",
     "text": [
      "6/6 [==============================] - 1s 68ms/step - loss: 2.2465 - accuracy: 0.1673 - val_loss: 2.1165 - val_accuracy: 0.2800\n",
      "Epoch 2/25\n",
      "6/6 [==============================] - 0s 54ms/step - loss: 2.1011 - accuracy: 0.2553 - val_loss: 2.0279 - val_accuracy: 0.2880\n",
      "Epoch 3/25\n",
      "6/6 [==============================] - 0s 48ms/step - loss: 1.9847 - accuracy: 0.3087 - val_loss: 2.0203 - val_accuracy: 0.2600\n",
      "Epoch 4/25\n",
      "6/6 [==============================] - 0s 48ms/step - loss: 1.9486 - accuracy: 0.3100 - val_loss: 1.9426 - val_accuracy: 0.3100\n",
      "Epoch 5/25\n",
      "6/6 [==============================] - 0s 48ms/step - loss: 1.9406 - accuracy: 0.2947 - val_loss: 1.8822 - val_accuracy: 0.3480\n",
      "Epoch 6/25\n",
      "6/6 [==============================] - 0s 48ms/step - loss: 1.8974 - accuracy: 0.3413 - val_loss: 1.8701 - val_accuracy: 0.3360\n",
      "Epoch 7/25\n",
      "6/6 [==============================] - 0s 48ms/step - loss: 1.8249 - accuracy: 0.3573 - val_loss: 1.8368 - val_accuracy: 0.3480\n",
      "Epoch 8/25\n",
      "6/6 [==============================] - 0s 45ms/step - loss: 1.8081 - accuracy: 0.3740 - val_loss: 1.8305 - val_accuracy: 0.3760\n",
      "Epoch 9/25\n",
      "6/6 [==============================] - 0s 46ms/step - loss: 1.7646 - accuracy: 0.3780 - val_loss: 1.8683 - val_accuracy: 0.3240\n",
      "Epoch 10/25\n",
      "6/6 [==============================] - 0s 51ms/step - loss: 1.8577 - accuracy: 0.3553 - val_loss: 1.8440 - val_accuracy: 0.3340\n",
      "Epoch 11/25\n",
      "6/6 [==============================] - 0s 45ms/step - loss: 1.7434 - accuracy: 0.3960 - val_loss: 1.8247 - val_accuracy: 0.3700\n",
      "Epoch 12/25\n",
      "6/6 [==============================] - 0s 45ms/step - loss: 1.7261 - accuracy: 0.4087 - val_loss: 1.8273 - val_accuracy: 0.3620\n",
      "Epoch 13/25\n",
      "6/6 [==============================] - 0s 46ms/step - loss: 1.7328 - accuracy: 0.3867 - val_loss: 1.8175 - val_accuracy: 0.3700\n",
      "Epoch 14/25\n",
      "6/6 [==============================] - 0s 45ms/step - loss: 1.6849 - accuracy: 0.4140 - val_loss: 1.9054 - val_accuracy: 0.3120\n",
      "Epoch 15/25\n",
      "6/6 [==============================] - 0s 46ms/step - loss: 1.6901 - accuracy: 0.3980 - val_loss: 1.8443 - val_accuracy: 0.3580\n",
      "Epoch 16/25\n",
      "6/6 [==============================] - 0s 44ms/step - loss: 1.6892 - accuracy: 0.4167 - val_loss: 1.8600 - val_accuracy: 0.3620\n",
      "Epoch 17/25\n",
      "6/6 [==============================] - 0s 53ms/step - loss: 1.6558 - accuracy: 0.4407 - val_loss: 1.8096 - val_accuracy: 0.3740\n",
      "Epoch 18/25\n",
      "6/6 [==============================] - 0s 46ms/step - loss: 1.6331 - accuracy: 0.4447 - val_loss: 1.8360 - val_accuracy: 0.3560\n",
      "Epoch 19/25\n",
      "6/6 [==============================] - 0s 45ms/step - loss: 1.6434 - accuracy: 0.4260 - val_loss: 1.9285 - val_accuracy: 0.3440\n",
      "Epoch 20/25\n",
      "6/6 [==============================] - 0s 45ms/step - loss: 1.6277 - accuracy: 0.4400 - val_loss: 1.8199 - val_accuracy: 0.3720\n",
      "Epoch 21/25\n",
      "6/6 [==============================] - 0s 46ms/step - loss: 1.6047 - accuracy: 0.4613 - val_loss: 1.8107 - val_accuracy: 0.3960\n",
      "Epoch 22/25\n",
      "6/6 [==============================] - 0s 46ms/step - loss: 1.5906 - accuracy: 0.4413 - val_loss: 1.8040 - val_accuracy: 0.3960\n",
      "Epoch 23/25\n",
      "6/6 [==============================] - 0s 45ms/step - loss: 1.5495 - accuracy: 0.4753 - val_loss: 1.8402 - val_accuracy: 0.3700\n",
      "Epoch 24/25\n",
      "6/6 [==============================] - 0s 45ms/step - loss: 1.5973 - accuracy: 0.4587 - val_loss: 1.9309 - val_accuracy: 0.3480\n",
      "Epoch 25/25\n",
      "6/6 [==============================] - 0s 45ms/step - loss: 1.5660 - accuracy: 0.4680 - val_loss: 1.8256 - val_accuracy: 0.3580\n",
      "16/16 [==============================] - 0s 3ms/step - loss: 2.8145 - accuracy: 0.2500\n",
      "Test loss: 2.814541816711426\n",
      "Test accuracy: 0.25\n"
     ]
    }
   ],
   "source": [
    "opt = tf.keras.optimizers.RMSprop(learning_rate=0.001, decay=1e-6)\n",
    "lenet_5_model.compile(loss='sparse_categorical_crossentropy', optimizer=opt, metrics=['accuracy'])\n",
    "history = lenet_5_model.fit(X_train, y_train, batch_size=256, epochs=25, validation_data=(X_valid, y_valid), shuffle=True)\n",
    "\n",
    "scores = lenet_5_model.evaluate(X_test, y_test, verbose=1)\n",
    "print('Test loss:', scores[0])\n",
    "print('Test accuracy:', scores[1])"
   ]
  },
  {
   "cell_type": "markdown",
   "id": "dedf51fc",
   "metadata": {},
   "source": [
    "### Using pretrained models\n",
    "\n",
    "https://keras.io/api/applications/resnet/"
   ]
  },
  {
   "cell_type": "code",
   "execution_count": 62,
   "id": "25a027d5",
   "metadata": {},
   "outputs": [],
   "source": [
    "base_model = tf.keras.applications.resnet50.ResNet50(weights= None, include_top=False, input_shape= X_train.shape[1:])"
   ]
  },
  {
   "cell_type": "code",
   "execution_count": null,
   "id": "7ec2f62d",
   "metadata": {},
   "outputs": [],
   "source": [
    "opt = tf.keras.optimizers.RMSprop(lr=0.001, decay=1e-6)\n",
    "base_model.compile(loss='sparse_categorical_crossentropy', optimizer=opt, metrics=['accuracy'])\n",
    "history = base_model.fit(X_train, y_train, batch_size=256, epochs=25, validation_data=(X_valid, y_valid), shuffle=True)\n",
    "\n",
    "scores = base_model.evaluate(X_test, y_test, verbose=1)\n",
    "print('Test loss:', scores[0])\n",
    "print('Test accuracy:', scores[1])"
   ]
  },
  {
   "cell_type": "markdown",
   "id": "548d8487",
   "metadata": {},
   "source": [
    "### Save and Load models"
   ]
  },
  {
   "cell_type": "code",
   "execution_count": 70,
   "id": "95e288e2",
   "metadata": {},
   "outputs": [],
   "source": [
    "model.save('CNN_CIFAR.h5')"
   ]
  },
  {
   "cell_type": "code",
   "execution_count": 71,
   "id": "cb15aa8a",
   "metadata": {},
   "outputs": [],
   "source": [
    "from keras.models import load_model\n",
    "model = load_model('CNN_CIFAR.h5')"
   ]
  },
  {
   "cell_type": "markdown",
   "id": "ca204b9f",
   "metadata": {},
   "source": [
    "### Grid Search - parameter tuning"
   ]
  },
  {
   "cell_type": "code",
   "execution_count": 78,
   "id": "980d0227",
   "metadata": {},
   "outputs": [],
   "source": [
    "def create_model(optimizer='rmsprop'):\n",
    "    model = tf.keras.Sequential()\n",
    "    model.add(tf.keras.layers.Conv2D(32, (3, 3), padding='same', input_shape=X_train.shape[1:]))\n",
    "    model.add(tf.keras.layers.Activation('relu'))\n",
    "    model.add(tf.keras.layers.Conv2D(32, (3, 3), strides=(2,2)))\n",
    "    model.add(tf.keras.layers.Activation('relu'))\n",
    "    model.add(tf.keras.layers.MaxPooling2D(pool_size=(2, 2)))\n",
    "    model.add(tf.keras.layers.Dropout(0.25))\n",
    "\n",
    "    model.add(tf.keras.layers.Conv2D(64, (3, 3), padding='same'))\n",
    "    model.add(tf.keras.layers.Activation('relu'))\n",
    "    model.add(tf.keras.layers.Conv2D(64, (3, 3)))\n",
    "    model.add(tf.keras.layers.Activation('relu'))\n",
    "    model.add(tf.keras.layers.MaxPooling2D(pool_size=(2, 2)))\n",
    "    model.add(tf.keras.layers.Dropout(0.25))\n",
    "\n",
    "    model.add(tf.keras.layers.Flatten())\n",
    "    model.add(tf.keras.layers.Dense(512))\n",
    "    model.add(tf.keras.layers.Activation('relu'))\n",
    "    model.add(tf.keras.layers.Dropout(0.5))\n",
    "    model.add(tf.keras.layers.Dense(10))\n",
    "    model.add(tf.keras.layers.Activation('softmax'))\n",
    "\n",
    "    model.compile(loss='sparse_categorical_crossentropy', optimizer=optimizer, metrics=['accuracy']) \n",
    "    return model"
   ]
  },
  {
   "cell_type": "code",
   "execution_count": 79,
   "id": "fe328ba8",
   "metadata": {},
   "outputs": [
    {
     "name": "stderr",
     "output_type": "stream",
     "text": [
      "C:\\Users\\gudev\\anaconda3\\envs\\busa\\lib\\site-packages\\ipykernel_launcher.py:5: DeprecationWarning: KerasClassifier is deprecated, use Sci-Keras (https://github.com/adriangb/scikeras) instead. See https://www.adriangb.com/scikeras/stable/migration.html for help migrating.\n",
      "  \"\"\"\n"
     ]
    },
    {
     "name": "stdout",
     "output_type": "stream",
     "text": [
      "100/100 [==============================] - 2s 15ms/step - loss: 2.2490 - accuracy: 0.1472\n",
      "25/25 [==============================] - 0s 5ms/step - loss: 2.0703 - accuracy: 0.2212\n",
      "100/100 [==============================] - 2s 15ms/step - loss: 2.2168 - accuracy: 0.1519\n",
      "25/25 [==============================] - 0s 5ms/step - loss: 2.2236 - accuracy: 0.1363\n",
      "100/100 [==============================] - 2s 15ms/step - loss: 2.2350 - accuracy: 0.1531\n",
      "25/25 [==============================] - 0s 5ms/step - loss: 2.0835 - accuracy: 0.2062\n",
      "100/100 [==============================] - 2s 15ms/step - loss: 2.2109 - accuracy: 0.1713\n",
      "25/25 [==============================] - 0s 5ms/step - loss: 2.0732 - accuracy: 0.2175\n",
      "100/100 [==============================] - 2s 15ms/step - loss: 2.2021 - accuracy: 0.1688\n",
      "25/25 [==============================] - 0s 5ms/step - loss: 2.0151 - accuracy: 0.2100\n",
      "100/100 [==============================] - 2s 15ms/step - loss: 2.2698 - accuracy: 0.1287\n",
      "25/25 [==============================] - 0s 5ms/step - loss: 2.0697 - accuracy: 0.2050\n",
      "100/100 [==============================] - 2s 16ms/step - loss: 2.2103 - accuracy: 0.1409\n",
      "25/25 [==============================] - 0s 5ms/step - loss: 2.1547 - accuracy: 0.1737\n",
      "100/100 [==============================] - 2s 15ms/step - loss: 2.2059 - accuracy: 0.1600\n",
      "25/25 [==============================] - 0s 4ms/step - loss: 2.0640 - accuracy: 0.2300\n",
      "100/100 [==============================] - 2s 15ms/step - loss: 2.2562 - accuracy: 0.1231\n",
      "25/25 [==============================] - 0s 4ms/step - loss: 2.1255 - accuracy: 0.2000\n",
      "100/100 [==============================] - 2s 15ms/step - loss: 2.1978 - accuracy: 0.1559\n",
      "25/25 [==============================] - 0s 4ms/step - loss: 2.0535 - accuracy: 0.1875\n",
      "100/100 [==============================] - 2s 15ms/step - loss: 2.2105 - accuracy: 0.1587\n",
      "25/25 [==============================] - 0s 5ms/step - loss: 2.2352 - accuracy: 0.1675\n",
      "100/100 [==============================] - 2s 15ms/step - loss: 2.1963 - accuracy: 0.1678\n",
      "25/25 [==============================] - 0s 5ms/step - loss: 2.0967 - accuracy: 0.2075\n",
      "100/100 [==============================] - 2s 15ms/step - loss: 2.2179 - accuracy: 0.1644\n",
      "25/25 [==============================] - 0s 5ms/step - loss: 2.0450 - accuracy: 0.2375\n",
      "100/100 [==============================] - 2s 16ms/step - loss: 2.2359 - accuracy: 0.1416\n",
      "25/25 [==============================] - 0s 5ms/step - loss: 2.0819 - accuracy: 0.2225\n",
      "100/100 [==============================] - 2s 15ms/step - loss: 2.2188 - accuracy: 0.1553\n",
      "25/25 [==============================] - 0s 5ms/step - loss: 2.2163 - accuracy: 0.1650\n",
      "100/100 [==============================] - 2s 15ms/step - loss: 2.1801 - accuracy: 0.1716\n",
      "25/25 [==============================] - 0s 5ms/step - loss: 2.0981 - accuracy: 0.1963\n",
      "100/100 [==============================] - 2s 15ms/step - loss: 2.2391 - accuracy: 0.1484\n",
      "25/25 [==============================] - 0s 4ms/step - loss: 2.1370 - accuracy: 0.1912\n",
      "100/100 [==============================] - 2s 15ms/step - loss: 2.2238 - accuracy: 0.1528\n",
      "25/25 [==============================] - 0s 4ms/step - loss: 2.0595 - accuracy: 0.1912\n",
      "100/100 [==============================] - 2s 15ms/step - loss: 2.2145 - accuracy: 0.1425\n",
      "25/25 [==============================] - 0s 4ms/step - loss: 2.0986 - accuracy: 0.1863\n",
      "100/100 [==============================] - 2s 15ms/step - loss: 2.2461 - accuracy: 0.1372\n",
      "25/25 [==============================] - 0s 5ms/step - loss: 2.1708 - accuracy: 0.1963\n",
      "100/100 [==============================] - 2s 16ms/step - loss: 2.2445 - accuracy: 0.1531\n",
      "25/25 [==============================] - 0s 5ms/step - loss: 2.1155 - accuracy: 0.2050\n",
      "100/100 [==============================] - 2s 15ms/step - loss: 2.1849 - accuracy: 0.1791\n",
      "25/25 [==============================] - 0s 5ms/step - loss: 2.0867 - accuracy: 0.2225\n",
      "100/100 [==============================] - 2s 16ms/step - loss: 2.2049 - accuracy: 0.1653\n",
      "25/25 [==============================] - 0s 5ms/step - loss: 2.1415 - accuracy: 0.1863\n",
      "100/100 [==============================] - 2s 16ms/step - loss: 2.2181 - accuracy: 0.1562\n",
      "25/25 [==============================] - 0s 5ms/step - loss: 2.0828 - accuracy: 0.2600\n",
      "100/100 [==============================] - 2s 16ms/step - loss: 2.2382 - accuracy: 0.1459\n",
      "25/25 [==============================] - 0s 5ms/step - loss: 2.0762 - accuracy: 0.2338\n",
      "100/100 [==============================] - 2s 15ms/step - loss: 2.2178 - accuracy: 0.1513\n",
      "25/25 [==============================] - 0s 5ms/step - loss: 2.0952 - accuracy: 0.2113\n",
      "100/100 [==============================] - 2s 16ms/step - loss: 2.1862 - accuracy: 0.1569\n",
      "25/25 [==============================] - 0s 5ms/step - loss: 2.0707 - accuracy: 0.2200\n",
      "100/100 [==============================] - 2s 16ms/step - loss: 2.1986 - accuracy: 0.1612\n",
      "25/25 [==============================] - 0s 4ms/step - loss: 2.0158 - accuracy: 0.2450\n",
      "100/100 [==============================] - 2s 15ms/step - loss: 2.2429 - accuracy: 0.1384\n",
      "25/25 [==============================] - 0s 4ms/step - loss: 2.0724 - accuracy: 0.2125\n",
      "100/100 [==============================] - 2s 15ms/step - loss: 2.2316 - accuracy: 0.1513\n",
      "25/25 [==============================] - 0s 4ms/step - loss: 2.0587 - accuracy: 0.2325\n",
      "125/125 [==============================] - 2s 15ms/step - loss: 2.1782 - accuracy: 0.1730\n",
      "Best: {'nb_epoch': 150, 'optimizer': 'adam'}\n"
     ]
    }
   ],
   "source": [
    "from keras.wrappers.scikit_learn import KerasClassifier\n",
    "from sklearn.model_selection import GridSearchCV\n",
    "import numpy as np\n",
    "\n",
    "model_cnn = KerasClassifier(build_fn=create_model)\n",
    "optimizers = ['rmsprop', 'adam']\n",
    "epochs = np.array([50, 100, 150])\n",
    "param_grid = dict(optimizer=optimizers,  nb_epoch=epochs)\n",
    "\n",
    "grid = GridSearchCV(estimator=model_cnn, param_grid=param_grid)\n",
    "grid_result = grid.fit(X_train, y_train)\n",
    "\n",
    "print(\"Best: %s\" % (grid_result.best_params_))\n"
   ]
  }
 ],
 "metadata": {
  "kernelspec": {
   "display_name": "Python 3 (ipykernel)",
   "language": "python",
   "name": "python3"
  },
  "language_info": {
   "codemirror_mode": {
    "name": "ipython",
    "version": 3
   },
   "file_extension": ".py",
   "mimetype": "text/x-python",
   "name": "python",
   "nbconvert_exporter": "python",
   "pygments_lexer": "ipython3",
   "version": "3.7.13"
  }
 },
 "nbformat": 4,
 "nbformat_minor": 5
}
