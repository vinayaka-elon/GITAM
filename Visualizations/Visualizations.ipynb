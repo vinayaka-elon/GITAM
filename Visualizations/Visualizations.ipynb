{
 "cells": [
  {
   "cell_type": "markdown",
   "metadata": {},
   "source": [
    "### Visualizations\n",
    "\n",
    "##### Libraries:\n",
    "- Matplotlib\n",
    "- Seaborn"
   ]
  },
  {
   "cell_type": "code",
   "execution_count": 30,
   "metadata": {},
   "outputs": [],
   "source": [
    "import matplotlib.pyplot as plt\n",
    "import seaborn as sns\n",
    "import pandas as pd\n",
    "import plotly.express as px\n",
    "import numpy as np"
   ]
  },
  {
   "cell_type": "code",
   "execution_count": null,
   "metadata": {},
   "outputs": [],
   "source": [
    "df = pd.read_csv('Example.csv')\n",
    "df"
   ]
  },
  {
   "cell_type": "code",
   "execution_count": null,
   "metadata": {},
   "outputs": [],
   "source": [
    "# Calculate skewness\n",
    "\n",
    "skewness = df['SAT/ACT'].skew()\n",
    "print(\"Skewness:\", skewness)\n",
    "\n",
    "# Calculate IQR\n",
    "Q1 = df['SAT/ACT'].quantile(0.25)\n",
    "Q3 = df['SAT/ACT'].quantile(0.75)\n",
    "IQR = Q3 - Q1\n",
    "\n",
    "# Calculate upper and lower bounds for outliers\n",
    "upper_bound = Q3 + 1.5 * IQR\n",
    "lower_bound = Q1 - 1.5 * IQR\n",
    "\n",
    "# Identify outliers\n",
    "outliers = df[(df['SAT/ACT'] < lower_bound) | (df['SAT/ACT'] > upper_bound)]\n",
    "\n",
    "outliers"
   ]
  },
  {
   "cell_type": "markdown",
   "metadata": {},
   "source": [
    "##### Check for outliers \n",
    "\n",
    "- Box plot\n",
    "- Histogram"
   ]
  },
  {
   "cell_type": "code",
   "execution_count": null,
   "metadata": {},
   "outputs": [],
   "source": [
    "#df.boxplot(column=column_name)\n",
    "#plt.boxplot(df[colum_name])\n",
    "#sns.boxplot(data = df[column_name], color='skyblue')\n",
    "#plt.title(\"Histogram using Matplotlib\")\n",
    "#plt.xlabel(\"Values\")\n",
    "#plt.ylabel(\"Frequency\")\n",
    "#plt.show()\n",
    "\n",
    "#fig = px.box(df[column_name], title=\"Box Plot using Plotly\")\n",
    "#fig.show()\n"
   ]
  },
  {
   "cell_type": "code",
   "execution_count": 34,
   "metadata": {},
   "outputs": [],
   "source": [
    "#df.hist(column=column_name, bins=10, color='skyblue', edgecolor='black')\n",
    "#plt.hist(df[column_name], bins=10, color='blue', edgecolor='black')\n",
    "#sns.histplot(data=df[column_name], bins=10, kde=True, color='skyblue')\n",
    "plt.show()\n",
    "\n",
    "#fig = px.histogram(df[column_name], nbins=10, title=\"Histogram using Plotly\")\n",
    "#fig.show()\n"
   ]
  },
  {
   "cell_type": "markdown",
   "metadata": {},
   "source": [
    "##### Check for association between quantitative variables\n",
    "\n",
    "- Scatter plot"
   ]
  },
  {
   "cell_type": "code",
   "execution_count": null,
   "metadata": {},
   "outputs": [],
   "source": [
    "#plt.scatter(x, y, color='green')\n",
    "#sns.scatterplot(data=df, x='x', y='y')\n",
    "#plt.show()\n",
    "\n",
    "#fig = px.scatter(df, x='X', y='Y', title=\"Scatter Plot using Plotly\")\n",
    "#fig.show()"
   ]
  },
  {
   "cell_type": "markdown",
   "metadata": {},
   "source": [
    "##### Visualize the frequency of a categorical variable\n",
    "\n",
    "- Bar Chart\n",
    "- Pie Chart"
   ]
  },
  {
   "cell_type": "code",
   "execution_count": null,
   "metadata": {},
   "outputs": [],
   "source": [
    "#value_counts = df[column_name].value_counts().reset_index()\n",
    "#value_counts.columns = ['Values', 'Counts']\n",
    "\n",
    "#plt.bar(value_counts.index, value_counts.values, color='skyblue')\n",
    "#sns.barplot(x='Values', y='Counts', data=value_counts, palette='Blues_d')\n",
    "#plt.show()\n",
    "\n",
    "#fig = px.bar(value_counts, x='Values',y='Counts', labels={'Values': 'Values', 'Counts': 'Counts'})\n",
    "#fig.show()\n",
    "\n",
    "\n"
   ]
  },
  {
   "cell_type": "code",
   "execution_count": null,
   "metadata": {},
   "outputs": [],
   "source": [
    "#plt.pie(value_counts['Counts'],labels=value_counts['Values'],  autopct='%1.1f%%')\n",
    "#plt.show()\n",
    "\n",
    "#fig = px.pie(value_counts, names='Values',values='Counts', labels={'Values': 'Values', 'Counts': 'Counts'})\n",
    "#fig.show()\n"
   ]
  },
  {
   "cell_type": "markdown",
   "metadata": {},
   "source": [
    "##### Visualize the trend of a quantitative variable over time"
   ]
  },
  {
   "cell_type": "code",
   "execution_count": null,
   "metadata": {},
   "outputs": [],
   "source": [
    "#np.random.seed(42)  # For reproducibility\n",
    "#time = pd.date_range(start=\"2024-01-01\", periods=100, freq='D')\n",
    "#price = np.random.randint(50, 150, size=100)\n",
    "#df = pd.DataFrame({'Time': time, 'Price': price})\n",
    "\n",
    "#plt.figure(figsize=(10, 6))\n",
    "#plt.plot(df['Time'], df['Price'], marker='o', color='blue', linestyle='-')\n",
    "#sns.lineplot(x='Time', y='Price', data=df, marker='o', color='blue')\n",
    "#plt.show()\n",
    "\n",
    "#fig = px.line(df, x='Time', y='Price', title='Price Over Time (Plotly)', labels={'Time': 'Time', 'Price': 'Price'}, markers=True)\n",
    "#fig.show()"
   ]
  },
  {
   "cell_type": "markdown",
   "metadata": {},
   "source": [
    "##### Save Matplotlib and Seaborn images"
   ]
  },
  {
   "cell_type": "code",
   "execution_count": null,
   "metadata": {},
   "outputs": [],
   "source": [
    "#plt.savefig('name.png', dpi=100)"
   ]
  }
 ],
 "metadata": {
  "kernelspec": {
   "display_name": "base",
   "language": "python",
   "name": "python3"
  },
  "language_info": {
   "codemirror_mode": {
    "name": "ipython",
    "version": 3
   },
   "file_extension": ".py",
   "mimetype": "text/x-python",
   "name": "python",
   "nbconvert_exporter": "python",
   "pygments_lexer": "ipython3",
   "version": "3.11.7"
  }
 },
 "nbformat": 4,
 "nbformat_minor": 2
}
